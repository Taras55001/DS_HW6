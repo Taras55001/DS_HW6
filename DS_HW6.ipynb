{
 "cells": [
  {
   "cell_type": "code",
   "execution_count": null,
   "id": "fd6cfdf7-690c-4bb9-b09f-3f0a6fec1dfc",
   "metadata": {},
   "outputs": [],
   "source": [
    "import os\n",
    "import numpy as np\n",
    "import pandas as pd\n",
    "from sklearn.preprocessing import StandardScaler\n",
    "import matplotlib.pyplot as plt\n",
    "import seaborn as sns"
   ]
  },
  {
   "cell_type": "code",
   "execution_count": null,
   "id": "ce3ea345-ad2e-4c44-b64f-a1f4801b1fe6",
   "metadata": {},
   "outputs": [],
   "source": [
    "main_directory = \"./data\"\n",
    "\n",
    "subdirectories = [f.path for f in os.scandir(main_directory) if f.is_dir()]\n",
    "dfs = []\n",
    "\n",
    "for directory in subdirectories:\n",
    "    files = [f for f in os.scandir(directory) if f.name.endswith('.csv')]\n",
    "    \n",
    "    for file in files:\n",
    "        file_path = file.path\n",
    "        df_temp = pd.read_csv(file_path)\n",
    "        x = df_temp['accelerometer_X']\n",
    "        y = df_temp['accelerometer_Y']\n",
    "        z = df_temp['accelerometer_Z']\n",
    "        df_temp['var_x'] = x.var()\n",
    "        df_temp['std_y'] = y.std(ddof=0)\n",
    "        df_temp['median_y'] = y.median()\n",
    "        df_temp['max_x'] = x.max()\n",
    "        df_temp['min_x'] = x.min()\n",
    "        df_temp['rms_y'] = np.sqrt((y ** 2).mean())\n",
    "        df_temp['skewness_y'] = y.skew()\n",
    "        df_temp['skewness_z'] = z.skew()\n",
    "        df_temp['kurtosis_z'] = z.kurtosis()\n",
    "        df_temp['iqr_x'] = x.quantile(0.75) - x.quantile(0.25)\n",
    "        df_temp['iqr_z'] = z.quantile(0.75) - z.quantile(0.25)\n",
    "        df_temp['mad_x'] = np.mean(np.abs(x - np.mean(x)))\n",
    "        df_temp['mad_y'] = np.mean(np.abs(y - np.mean(y)))\n",
    "        df_temp['mad_z'] = np.mean(np.abs(z - np.mean(z)))\n",
    "        df_temp['min_index_y'] = y.idxmin()\n",
    "        \n",
    "        df_temp['folder'] = os.path.basename(directory)\n",
    "        df_temp['file'] = os.path.splitext(file.name)[0]\n",
    "        \n",
    "        dfs.append(df_temp)\n",
    "\n",
    "df = pd.concat(dfs, ignore_index=True)\n",
    "\n",
    "df.head()"
   ]
  }
 ],
 "metadata": {
  "kernelspec": {
   "display_name": "Python 3 (ipykernel)",
   "language": "python",
   "name": "python3"
  },
  "language_info": {
   "codemirror_mode": {
    "name": "ipython",
    "version": 3
   },
   "file_extension": ".py",
   "mimetype": "text/x-python",
   "name": "python",
   "nbconvert_exporter": "python",
   "pygments_lexer": "ipython3",
   "version": "3.11.1"
  }
 },
 "nbformat": 4,
 "nbformat_minor": 5
}
