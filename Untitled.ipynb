{
 "cells": [
  {
   "cell_type": "code",
   "execution_count": 22,
   "id": "1a38245b-7191-4f71-86b6-3c4bf0fd0221",
   "metadata": {},
   "outputs": [],
   "source": [
    "# Example file showing a circle moving on screen\n",
    "import pygame\n",
    "\n",
    "# pygame setup\n",
    "pygame.init()\n",
    "screen = pygame.display.set_mode((1280, 720))\n",
    "clock = pygame.time.Clock()\n",
    "running = True\n",
    "dt = 0\n",
    "\n",
    "player_pos = pygame.Vector2(screen.get_width() / 2, screen.get_height() / 2)\n",
    "while running:\n",
    "    # poll for events\n",
    "    # pygame.QUIT event means the user clicked X to close your window\n",
    "    for event in pygame.event.get():\n",
    "        if event.type == pygame.QUIT:\n",
    "            running = False\n",
    "    \n",
    "    \n",
    "    # fill the screen with a color to wipe away anything from last frame\n",
    "    screen.fill(\"white\")\n",
    "    pygame.draw.line(screen, \"black\",[10,10], [10,screen.get_height()-10], width=10)\n",
    "    pygame.draw.line(screen, \"black\",[10,screen.get_height()-10], [screen.get_width()-10,screen.get_height()-10], width=10)\n",
    "    pygame.draw.line(screen, \"black\",[screen.get_width()-10,screen.get_height()-10], [screen.get_width()-10,10], width=10)\n",
    "    pygame.draw.line(screen, \"black\",[screen.get_width()-10,10], [10,10], width=10)\n",
    "    pygame.draw.circle(screen, \"orange\", player_pos, 20)\n",
    "\n",
    "    keys = pygame.key.get_pressed()\n",
    "    if keys[pygame.K_w]:\n",
    "        player_pos.y -= 300 * dt\n",
    "    if keys[pygame.K_s]:\n",
    "        player_pos.y += 300 * dt\n",
    "    if keys[pygame.K_a]:\n",
    "        player_pos.x -= 300 * dt\n",
    "    if keys[pygame.K_d]:\n",
    "        player_pos.x += 300 * dt\n",
    "\n",
    "    # flip() the display to put your work on screen\n",
    "    pygame.display.flip()\n",
    "\n",
    "    # limits FPS to 60\n",
    "    # dt is delta time in seconds since last frame, used for framerate-\n",
    "    # independent physics.\n",
    "    dt = clock.tick(60) / 1000\n",
    "\n",
    "pygame.quit()"
   ]
  },
  {
   "cell_type": "code",
   "execution_count": null,
   "id": "a32672df-bc38-47bf-9b66-a63dd813600e",
   "metadata": {},
   "outputs": [],
   "source": []
  }
 ],
 "metadata": {
  "kernelspec": {
   "display_name": "Python 3 (ipykernel)",
   "language": "python",
   "name": "python3"
  },
  "language_info": {
   "codemirror_mode": {
    "name": "ipython",
    "version": 3
   },
   "file_extension": ".py",
   "mimetype": "text/x-python",
   "name": "python",
   "nbconvert_exporter": "python",
   "pygments_lexer": "ipython3",
   "version": "3.11.1"
  }
 },
 "nbformat": 4,
 "nbformat_minor": 5
}
